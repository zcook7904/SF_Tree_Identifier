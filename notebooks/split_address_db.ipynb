{
 "cells": [
  {
   "cell_type": "code",
   "execution_count": 12,
   "id": "88d3c8a8",
   "metadata": {},
   "outputs": [],
   "source": [
    "import pandas as pd\n",
    "import os\n",
    "\n",
    "path = os.path.join('..', 'dev', 'db_creation', 'table_making.csv')\n",
    "df = pd.read_csv(path, index_col=0)"
   ]
  },
  {
   "cell_type": "code",
   "execution_count": 13,
   "id": "418a62a3",
   "metadata": {},
   "outputs": [
    {
     "name": "stdout",
     "output_type": "stream",
     "text": [
      "<class 'pandas.core.frame.DataFrame'>\n",
      "Int64Index: 174480 entries, 121399 to 15238\n",
      "Data columns (total 3 columns):\n",
      " #   Column         Non-Null Count   Dtype \n",
      "---  ------         --------------   ----- \n",
      " 0   street_number  174478 non-null  object\n",
      " 1   street_name    174478 non-null  object\n",
      " 2   qSpecies       174480 non-null  int64 \n",
      "dtypes: int64(1), object(2)\n",
      "memory usage: 5.3+ MB\n"
     ]
    }
   ],
   "source": [
    "df[['street_number', 'street_name']] = df.qAddress.str.split(' ', n=1, expand=True)\n",
    "df = df[['street_number', 'street_name', 'qSpecies']]\n",
    "df.info()"
   ]
  },
  {
   "cell_type": "code",
   "execution_count": 16,
   "id": "3d99f82c",
   "metadata": {},
   "outputs": [],
   "source": [
    "df = df.astype({'street_number': 'int64'}).sort_values(['street_name', 'street_number']).dropna()"
   ]
  },
  {
   "cell_type": "code",
   "execution_count": 19,
   "id": "e1fe617d",
   "metadata": {
    "scrolled": true
   },
   "outputs": [
    {
     "data": {
      "text/html": [
       "<div>\n",
       "<style scoped>\n",
       "    .dataframe tbody tr th:only-of-type {\n",
       "        vertical-align: middle;\n",
       "    }\n",
       "\n",
       "    .dataframe tbody tr th {\n",
       "        vertical-align: top;\n",
       "    }\n",
       "\n",
       "    .dataframe thead th {\n",
       "        text-align: right;\n",
       "    }\n",
       "</style>\n",
       "<table border=\"1\" class=\"dataframe\">\n",
       "  <thead>\n",
       "    <tr style=\"text-align: right;\">\n",
       "      <th></th>\n",
       "      <th>street_number</th>\n",
       "      <th>street_name</th>\n",
       "      <th>qSpecies</th>\n",
       "    </tr>\n",
       "    <tr>\n",
       "      <th>TreeID</th>\n",
       "      <th></th>\n",
       "      <th></th>\n",
       "      <th></th>\n",
       "    </tr>\n",
       "  </thead>\n",
       "  <tbody>\n",
       "    <tr>\n",
       "      <th>39786</th>\n",
       "      <td>50</td>\n",
       "      <td>san jose ave</td>\n",
       "      <td>31</td>\n",
       "    </tr>\n",
       "    <tr>\n",
       "      <th>39791</th>\n",
       "      <td>50</td>\n",
       "      <td>san jose ave</td>\n",
       "      <td>35</td>\n",
       "    </tr>\n",
       "    <tr>\n",
       "      <th>39780</th>\n",
       "      <td>50</td>\n",
       "      <td>san jose ave</td>\n",
       "      <td>31</td>\n",
       "    </tr>\n",
       "    <tr>\n",
       "      <th>39789</th>\n",
       "      <td>50</td>\n",
       "      <td>san jose ave</td>\n",
       "      <td>31</td>\n",
       "    </tr>\n",
       "    <tr>\n",
       "      <th>39790</th>\n",
       "      <td>50</td>\n",
       "      <td>san jose ave</td>\n",
       "      <td>275</td>\n",
       "    </tr>\n",
       "    <tr>\n",
       "      <th>...</th>\n",
       "      <td>...</td>\n",
       "      <td>...</td>\n",
       "      <td>...</td>\n",
       "    </tr>\n",
       "    <tr>\n",
       "      <th>93576</th>\n",
       "      <td>2998</td>\n",
       "      <td>san jose ave</td>\n",
       "      <td>30</td>\n",
       "    </tr>\n",
       "    <tr>\n",
       "      <th>93577</th>\n",
       "      <td>2998</td>\n",
       "      <td>san jose ave</td>\n",
       "      <td>80</td>\n",
       "    </tr>\n",
       "    <tr>\n",
       "      <th>93574</th>\n",
       "      <td>2998</td>\n",
       "      <td>san jose ave</td>\n",
       "      <td>80</td>\n",
       "    </tr>\n",
       "    <tr>\n",
       "      <th>254876</th>\n",
       "      <td>3100</td>\n",
       "      <td>san jose ave</td>\n",
       "      <td>2</td>\n",
       "    </tr>\n",
       "    <tr>\n",
       "      <th>254878</th>\n",
       "      <td>3156</td>\n",
       "      <td>san jose ave</td>\n",
       "      <td>2</td>\n",
       "    </tr>\n",
       "  </tbody>\n",
       "</table>\n",
       "<p>1124 rows × 3 columns</p>\n",
       "</div>"
      ],
      "text/plain": [
       "        street_number   street_name  qSpecies\n",
       "TreeID                                       \n",
       "39786              50  san jose ave        31\n",
       "39791              50  san jose ave        35\n",
       "39780              50  san jose ave        31\n",
       "39789              50  san jose ave        31\n",
       "39790              50  san jose ave       275\n",
       "...               ...           ...       ...\n",
       "93576            2998  san jose ave        30\n",
       "93577            2998  san jose ave        80\n",
       "93574            2998  san jose ave        80\n",
       "254876           3100  san jose ave         2\n",
       "254878           3156  san jose ave         2\n",
       "\n",
       "[1124 rows x 3 columns]"
      ]
     },
     "execution_count": 19,
     "metadata": {},
     "output_type": "execute_result"
    }
   ],
   "source": [
    "df.loc[df.street_name == 'san jose ave']"
   ]
  },
  {
   "cell_type": "code",
   "execution_count": 20,
   "id": "2a00b30f",
   "metadata": {},
   "outputs": [
    {
     "name": "stdout",
     "output_type": "stream",
     "text": [
      "<class 'pandas.core.frame.DataFrame'>\n",
      "RangeIndex: 223358 entries, 0 to 223357\n",
      "Data columns (total 21 columns):\n",
      " #   Column                        Non-Null Count   Dtype  \n",
      "---  ------                        --------------   -----  \n",
      " 0   EAS BaseID                    223358 non-null  int64  \n",
      " 1   Address                       223358 non-null  object \n",
      " 2   Address Number                223358 non-null  int64  \n",
      " 3   Address Number Suffix         4604 non-null    object \n",
      " 4   Street Name                   223358 non-null  object \n",
      " 5   Street Type                   222362 non-null  object \n",
      " 6   ZIP Code                      223358 non-null  int64  \n",
      " 7   CNN                           223358 non-null  int64  \n",
      " 8   Longitude                     223358 non-null  float64\n",
      " 9   Latitude                      223358 non-null  float64\n",
      " 10  point                         223358 non-null  object \n",
      " 11  supdist                       223358 non-null  object \n",
      " 12  supervisor                    223358 non-null  int64  \n",
      " 13  supdistpad                    223358 non-null  int64  \n",
      " 14  numbertext                    223358 non-null  object \n",
      " 15  supname                       223358 non-null  object \n",
      " 16  nhood                         223358 non-null  object \n",
      " 17  SF Find Neighborhoods         223319 non-null  float64\n",
      " 18  Current Police Districts      222511 non-null  float64\n",
      " 19  Current Supervisor Districts  223318 non-null  float64\n",
      " 20  Analysis Neighborhoods        223306 non-null  float64\n",
      "dtypes: float64(6), int64(6), object(9)\n",
      "memory usage: 35.8+ MB\n"
     ]
    }
   ],
   "source": [
    "import json\n",
    "\n",
    "address_path = os.path.join('..', 'dev', 'SF_Addresses.csv')\n",
    "addresses = pd.read_csv(address_path)\n",
    "addresses.info()"
   ]
  }
 ],
 "metadata": {
  "kernelspec": {
   "display_name": "Python 3 (ipykernel)",
   "language": "python",
   "name": "python3"
  },
  "language_info": {
   "codemirror_mode": {
    "name": "ipython",
    "version": 3
   },
   "file_extension": ".py",
   "mimetype": "text/x-python",
   "name": "python",
   "nbconvert_exporter": "python",
   "pygments_lexer": "ipython3",
   "version": "3.10.0"
  }
 },
 "nbformat": 4,
 "nbformat_minor": 5
}

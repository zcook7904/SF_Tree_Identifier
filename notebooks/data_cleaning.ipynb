{
 "cells": [
  {
   "cell_type": "markdown",
   "id": "b2842ad1",
   "metadata": {},
   "source": [
    "The database of trees will created from the SF Street Tree list, with some addresses added and modified based on the tree's listed geolocation (see SF Plum Finder post)."
   ]
  },
  {
   "cell_type": "code",
   "execution_count": 82,
   "id": "bc8d7311",
   "metadata": {
    "scrolled": true
   },
   "outputs": [
    {
     "name": "stdout",
     "output_type": "stream",
     "text": [
      "<class 'pandas.core.frame.DataFrame'>\n",
      "Int64Index: 196458 entries, 121399 to 15238\n",
      "Data columns (total 22 columns):\n",
      " #   Column                     Non-Null Count   Dtype  \n",
      "---  ------                     --------------   -----  \n",
      " 0   qLegalStatus               196401 non-null  object \n",
      " 1   qSpecies                   196458 non-null  object \n",
      " 2   qAddress                   195060 non-null  object \n",
      " 3   SiteOrder                  194654 non-null  float64\n",
      " 4   qSiteInfo                  196458 non-null  object \n",
      " 5   PlantType                  196458 non-null  object \n",
      " 6   qCaretaker                 196458 non-null  object \n",
      " 7   qCareAssistant             24687 non-null   object \n",
      " 8   PlantDate                  70755 non-null   object \n",
      " 9   DBH                        152951 non-null  float64\n",
      " 10  PlotSize                   146108 non-null  object \n",
      " 11  PermitNotes                53306 non-null   object \n",
      " 12  XCoord                     193516 non-null  float64\n",
      " 13  YCoord                     193516 non-null  float64\n",
      " 14  Latitude                   193986 non-null  float64\n",
      " 15  Longitude                  193986 non-null  float64\n",
      " 16  Location                   193986 non-null  object \n",
      " 17  Fire Prevention Districts  193265 non-null  float64\n",
      " 18  Police Districts           193318 non-null  float64\n",
      " 19  Supervisor Districts       193379 non-null  float64\n",
      " 20  Zip Codes                  193373 non-null  float64\n",
      " 21  Neighborhoods (old)        193375 non-null  float64\n",
      "dtypes: float64(11), object(11)\n",
      "memory usage: 34.5+ MB\n"
     ]
    }
   ],
   "source": [
    "import os\n",
    "import pandas as pd\n",
    "original_path = os.path.join('..', 'original_data', 'Processed_Street_Tree_List.csv')\n",
    "original_data = pd.read_csv(original_path).set_index('TreeID')\n",
    "original_data.info()"
   ]
  },
  {
   "cell_type": "markdown",
   "id": "d6fdd888",
   "metadata": {},
   "source": [
    "As can be seen, the data contains over 196,000 (!) trees in San Francisco, with a myriad of information contained in 21 columns. As many of these columns are unnecessary, we will remove those now as well as convert some of the data types."
   ]
  },
  {
   "cell_type": "code",
   "execution_count": 83,
   "id": "7b6dd1f8",
   "metadata": {
    "scrolled": false
   },
   "outputs": [
    {
     "data": {
      "text/html": [
       "<div>\n",
       "<style scoped>\n",
       "    .dataframe tbody tr th:only-of-type {\n",
       "        vertical-align: middle;\n",
       "    }\n",
       "\n",
       "    .dataframe tbody tr th {\n",
       "        vertical-align: top;\n",
       "    }\n",
       "\n",
       "    .dataframe thead th {\n",
       "        text-align: right;\n",
       "    }\n",
       "</style>\n",
       "<table border=\"1\" class=\"dataframe\">\n",
       "  <thead>\n",
       "    <tr style=\"text-align: right;\">\n",
       "      <th></th>\n",
       "      <th>qSpecies</th>\n",
       "      <th>qAddress</th>\n",
       "      <th>SiteOrder</th>\n",
       "      <th>qSiteInfo</th>\n",
       "    </tr>\n",
       "    <tr>\n",
       "      <th>TreeID</th>\n",
       "      <th></th>\n",
       "      <th></th>\n",
       "      <th></th>\n",
       "      <th></th>\n",
       "    </tr>\n",
       "  </thead>\n",
       "  <tbody>\n",
       "    <tr>\n",
       "      <th>98278</th>\n",
       "      <td>Pinus canariensis :: Canary Island Pine</td>\n",
       "      <td>900 Brotherhood Way</td>\n",
       "      <td>500.0</td>\n",
       "      <td>Sidewalk: Curb side : Yard</td>\n",
       "    </tr>\n",
       "    <tr>\n",
       "      <th>137894</th>\n",
       "      <td>Pittosporum undulatum :: Victorian Box</td>\n",
       "      <td>1710 Bush St</td>\n",
       "      <td>1700.0</td>\n",
       "      <td>Sidewalk: Curb side : Cutout</td>\n",
       "    </tr>\n",
       "    <tr>\n",
       "      <th>98279</th>\n",
       "      <td>Pinus canariensis :: Canary Island Pine</td>\n",
       "      <td>900 Brotherhood Way</td>\n",
       "      <td>501.0</td>\n",
       "      <td>Sidewalk: Curb side : Yard</td>\n",
       "    </tr>\n",
       "    <tr>\n",
       "      <th>96618</th>\n",
       "      <td>Lophostemon confertus :: Brisbane Box</td>\n",
       "      <td>3555@ 19th St 19th St</td>\n",
       "      <td>268.0</td>\n",
       "      <td>Sidewalk: Property side :</td>\n",
       "    </tr>\n",
       "  </tbody>\n",
       "</table>\n",
       "</div>"
      ],
      "text/plain": [
       "                                       qSpecies               qAddress  \\\n",
       "TreeID                                                                   \n",
       "98278   Pinus canariensis :: Canary Island Pine    900 Brotherhood Way   \n",
       "137894   Pittosporum undulatum :: Victorian Box           1710 Bush St   \n",
       "98279   Pinus canariensis :: Canary Island Pine    900 Brotherhood Way   \n",
       "96618     Lophostemon confertus :: Brisbane Box  3555@ 19th St 19th St   \n",
       "\n",
       "        SiteOrder                     qSiteInfo  \n",
       "TreeID                                           \n",
       "98278       500.0    Sidewalk: Curb side : Yard  \n",
       "137894     1700.0  Sidewalk: Curb side : Cutout  \n",
       "98279       501.0    Sidewalk: Curb side : Yard  \n",
       "96618       268.0     Sidewalk: Property side :  "
      ]
     },
     "execution_count": 83,
     "metadata": {},
     "output_type": "execute_result"
    }
   ],
   "source": [
    "data = original_data.loc[:, ['qSpecies', 'qAddress', 'SiteOrder', 'qSiteInfo']].dropna(subset='qAddress')\n",
    "data[['SiteOrder']] = data[['SiteOrder']].fillna(1)\n",
    "\n",
    "# checking to see what size integer is needed\n",
    "data.loc[data.SiteOrder > 2**8]\n"
   ]
  },
  {
   "cell_type": "markdown",
   "id": "24ff7ae7",
   "metadata": {},
   "source": [
    "It seems as if there are some issues with the site orders of some of the trees. Checking one of the addresses we get:"
   ]
  },
  {
   "cell_type": "code",
   "execution_count": 84,
   "id": "cbfefb42",
   "metadata": {
    "scrolled": true
   },
   "outputs": [
    {
     "data": {
      "text/plain": [
       "TreeID\n",
       "178278      5.0\n",
       "255371      4.0\n",
       "176156     10.0\n",
       "178280      7.0\n",
       "176153      3.0\n",
       "178282     11.0\n",
       "178277      1.0\n",
       "98278     500.0\n",
       "256768      7.0\n",
       "256767     22.0\n",
       "98279     501.0\n",
       "178291     20.0\n",
       "255373      6.0\n",
       "176154      4.0\n",
       "178284     13.0\n",
       "178285     14.0\n",
       "178290     19.0\n",
       "178279      6.0\n",
       "255372      5.0\n",
       "178286     15.0\n",
       "178288     17.0\n",
       "178287     16.0\n",
       "255374     21.0\n",
       "176152      2.0\n",
       "178289     18.0\n",
       "178283     12.0\n",
       "178281      8.0\n",
       "Name: SiteOrder, dtype: float64"
      ]
     },
     "execution_count": 84,
     "metadata": {},
     "output_type": "execute_result"
    }
   ],
   "source": [
    "data.loc[data.qAddress == '900 Brotherhood Way'].SiteOrder"
   ]
  },
  {
   "cell_type": "markdown",
   "id": "3f2b286a",
   "metadata": {},
   "source": [
    "Let's replace those values with more reasonable ones:"
   ]
  },
  {
   "cell_type": "code",
   "execution_count": 85,
   "id": "98d3453d",
   "metadata": {
    "scrolled": true
   },
   "outputs": [
    {
     "data": {
      "text/plain": [
       "24.0"
      ]
     },
     "execution_count": 85,
     "metadata": {},
     "output_type": "execute_result"
    }
   ],
   "source": [
    "data.loc[98278, 'SiteOrder'] = 23\n",
    "data.loc[98279, 'SiteOrder'] = 24\n",
    "data.loc[data.qAddress == '900 Brotherhood Way'].SiteOrder.max()"
   ]
  },
  {
   "cell_type": "markdown",
   "id": "429d6764",
   "metadata": {},
   "source": [
    "Checking the others:"
   ]
  },
  {
   "cell_type": "code",
   "execution_count": 86,
   "id": "0a18220e",
   "metadata": {},
   "outputs": [
    {
     "data": {
      "text/plain": [
       "TreeID\n",
       "96618    268.0\n",
       "Name: SiteOrder, dtype: float64"
      ]
     },
     "execution_count": 86,
     "metadata": {},
     "output_type": "execute_result"
    }
   ],
   "source": [
    "data.loc[data.qAddress == '3555@ 19th St 19th St'].SiteOrder"
   ]
  },
  {
   "cell_type": "markdown",
   "id": "b45398b6",
   "metadata": {},
   "source": [
    "'3555@ 19th St 19th St' isn't a real address anyways, so we will replace both the address and the site order:"
   ]
  },
  {
   "cell_type": "code",
   "execution_count": 87,
   "id": "046872e5",
   "metadata": {},
   "outputs": [],
   "source": [
    "data.loc[96618, 'SiteOrder'] = 1\n",
    "data.loc[96618, 'qAddress'] = '3555 19th St'"
   ]
  },
  {
   "cell_type": "markdown",
   "id": "3b10bf7d",
   "metadata": {},
   "source": [
    "And finally the last one:"
   ]
  },
  {
   "cell_type": "code",
   "execution_count": 88,
   "id": "2e19f1b7",
   "metadata": {},
   "outputs": [
    {
     "data": {
      "text/plain": [
       "TreeID\n",
       "137894    1700.0\n",
       "2588         1.0\n",
       "Name: SiteOrder, dtype: float64"
      ]
     },
     "execution_count": 88,
     "metadata": {},
     "output_type": "execute_result"
    }
   ],
   "source": [
    "data.loc[data.qAddress == '1710 Bush St'].SiteOrder"
   ]
  },
  {
   "cell_type": "code",
   "execution_count": 89,
   "id": "4831d85a",
   "metadata": {
    "scrolled": false
   },
   "outputs": [
    {
     "data": {
      "text/html": [
       "<div>\n",
       "<style scoped>\n",
       "    .dataframe tbody tr th:only-of-type {\n",
       "        vertical-align: middle;\n",
       "    }\n",
       "\n",
       "    .dataframe tbody tr th {\n",
       "        vertical-align: top;\n",
       "    }\n",
       "\n",
       "    .dataframe thead th {\n",
       "        text-align: right;\n",
       "    }\n",
       "</style>\n",
       "<table border=\"1\" class=\"dataframe\">\n",
       "  <thead>\n",
       "    <tr style=\"text-align: right;\">\n",
       "      <th></th>\n",
       "      <th>qSpecies</th>\n",
       "      <th>qAddress</th>\n",
       "      <th>SiteOrder</th>\n",
       "      <th>qSiteInfo</th>\n",
       "    </tr>\n",
       "    <tr>\n",
       "      <th>TreeID</th>\n",
       "      <th></th>\n",
       "      <th></th>\n",
       "      <th></th>\n",
       "      <th></th>\n",
       "    </tr>\n",
       "  </thead>\n",
       "  <tbody>\n",
       "  </tbody>\n",
       "</table>\n",
       "</div>"
      ],
      "text/plain": [
       "Empty DataFrame\n",
       "Columns: [qSpecies, qAddress, SiteOrder, qSiteInfo]\n",
       "Index: []"
      ]
     },
     "execution_count": 89,
     "metadata": {},
     "output_type": "execute_result"
    }
   ],
   "source": [
    "data.loc[137894, 'SiteOrder'] = 2\n",
    "\n",
    "# checking\n",
    "data.loc[data.SiteOrder > 2**8]"
   ]
  },
  {
   "cell_type": "markdown",
   "id": "3ac8d083",
   "metadata": {},
   "source": [
    "Now we can convert the data types"
   ]
  },
  {
   "cell_type": "code",
   "execution_count": 90,
   "id": "92ff4339",
   "metadata": {},
   "outputs": [
    {
     "name": "stdout",
     "output_type": "stream",
     "text": [
      "<class 'pandas.core.frame.DataFrame'>\n",
      "Int64Index: 195060 entries, 121399 to 15238\n",
      "Data columns (total 4 columns):\n",
      " #   Column     Non-Null Count   Dtype   \n",
      "---  ------     --------------   -----   \n",
      " 0   qSpecies   195060 non-null  category\n",
      " 1   qAddress   195060 non-null  string  \n",
      " 2   SiteOrder  195060 non-null  int8    \n",
      " 3   qSiteInfo  195060 non-null  category\n",
      "dtypes: category(2), int8(1), string(1)\n",
      "memory usage: 7.8 MB\n"
     ]
    }
   ],
   "source": [
    "data = data.astype({'qSpecies': 'category', 'qAddress': 'string', 'SiteOrder': 'int8', 'qSiteInfo': 'category'})\n",
    "data.info()"
   ]
  },
  {
   "cell_type": "markdown",
   "id": "511945ce",
   "metadata": {},
   "source": [
    "Let's look at the different possible qSiteInfo's:"
   ]
  },
  {
   "cell_type": "code",
   "execution_count": 91,
   "id": "795e15d1",
   "metadata": {
    "scrolled": false
   },
   "outputs": [
    {
     "data": {
      "text/plain": [
       "Index([':', ': Cutout', ': Yard', 'Back Yard : Cutout', 'Back Yard : Yard',\n",
       "       'Front Yard :', 'Front Yard : Cutout', 'Front Yard : Pot',\n",
       "       'Front Yard : Yard', 'Hanging basket : Cutout', 'Hanging basket : Yard',\n",
       "       'Median :', 'Median : Cutout', 'Median : Hanging Pot', 'Median : Yard',\n",
       "       'Side Yard : Cutout', 'Side Yard : Pot', 'Side Yard : Yard',\n",
       "       'Sidewalk: Curb side :', 'Sidewalk: Curb side : Cutout',\n",
       "       'Sidewalk: Curb side : Hanging Pot', 'Sidewalk: Curb side : Pot',\n",
       "       'Sidewalk: Curb side : Yard', 'Sidewalk: Property side :',\n",
       "       'Sidewalk: Property side : Cutout', 'Sidewalk: Property side : Pot',\n",
       "       'Sidewalk: Property side : Yard', 'Unaccepted Street : Cutout',\n",
       "       'Unaccepted Street : Pot', 'Unaccepted Street : Yard',\n",
       "       'unknown : Cutout', 'unknown : Pot', 'unknown : Yard'],\n",
       "      dtype='object')"
      ]
     },
     "execution_count": 91,
     "metadata": {},
     "output_type": "execute_result"
    }
   ],
   "source": [
    "data.qSiteInfo.cat.categories"
   ]
  },
  {
   "cell_type": "markdown",
   "id": "9c4d9c86",
   "metadata": {},
   "source": [
    "Since we only care about trees that are publicly accessible (and exist), we'll filter to only contain front yard and sidewalk trees:"
   ]
  },
  {
   "cell_type": "code",
   "execution_count": 92,
   "id": "ba49ba4f",
   "metadata": {
    "scrolled": false
   },
   "outputs": [],
   "source": [
    "acceptable_site_info = ['Front Yard :', 'Front Yard : Cutout', 'Front Yard : Pot',\n",
    "       'Front Yard : Yard', 'Hanging basket : Cutout', 'Hanging basket : Yard',\n",
    "       'Median :', 'Median : Cutout', 'Median : Hanging Pot', 'Median : Yard', 'Sidewalk: Curb side :', \n",
    "       'Sidewalk: Curb side : Cutout',\n",
    "       'Sidewalk: Curb side : Hanging Pot', 'Sidewalk: Curb side : Pot', 'Sidewalk: Curb side : Yard', \n",
    "       'Sidewalk: Property side :', 'Sidewalk: Property side : Cutout', 'Sidewalk: Property side : Pot',\n",
    "       'Sidewalk: Property side : Yard']\n",
    "\n",
    "data = data.loc[data['qSiteInfo'].isin(acceptable_site_info)]"
   ]
  },
  {
   "cell_type": "markdown",
   "id": "f18e123b",
   "metadata": {},
   "source": [
    "Looking at the species in the data:"
   ]
  },
  {
   "cell_type": "code",
   "execution_count": 93,
   "id": "19db679e",
   "metadata": {
    "scrolled": true
   },
   "outputs": [
    {
     "name": "stdout",
     "output_type": "stream",
     "text": [
      "['::', ':: To Be Determine', ':: Tree', 'Abutilon hybridum :: Flowering maple', \"Acacia baileyana 'Purpurea' :: Purple-leaf Acacia\", \"Acacia baileyana :: Bailey's Acacia\", 'Acacia cognata :: River Wattle', 'Acacia cyclops :: Cyclops wattle', 'Acacia dealbata :: Silver Wattle', 'Acacia decurrens :: Acacia: Silver Wattle', 'Acacia iteaphylla :: Willow wattle', 'Acacia longifolia :: Golden Wattle', 'Acacia melanoxylon :: Blackwood Acacia', 'Acacia spp :: Acacia Spp', 'Acacia stenophylla :: Shoestring Acacia', 'Acacia vestita :: Hairy wattle', 'Acca sellowiana :: Pineapple Guava Tree', 'Acer buergeranum :: Trident Maple', 'Acer campestre :: Hedge Maple', 'Acer circinatum :: Vine Maple', 'Acer ginnela :: Amur Maple', 'Acer japonicum :: Japanese Maple', 'Acer macrophyllum :: Big Leaf Maple', 'Acer negundo :: Box Elder', \"Acer palmatum 'Bloodgood' :: Bloodgood Japanese Maple\", \"Acer palmatum 'Sango Kaku' :: Coral Bark Maple\", 'Acer palmatum :: Japanese Maple', 'Acer paxii :: Evergreen Maple', \"Acer platanoides 'Crimson King' :: Norway maple\", 'Acer platanoides :: Norway Maple', 'Acer pseudoplatanus :: Sycamore Maple', \"Acer rubrum 'Armstrong' :: Armstrong Red Maple\", \"Acer rubrum 'Autumn Glory' :: Red Maple Tree 'Autumn Glory'\", \"Acer rubrum 'October Glory' :: Red October Glory Maple\", \"Acer rubrum 'Red Sunset' :: Red Swamp Maple\", 'Acer rubrum :: Red Maple', 'Acer saccharinum :: Silver Maple', 'Acer saccharum :: Sugar Maple', 'Acer spp :: Maple', 'Acer tegmentosum :: Manchurian snakebark maple', \"Acer x 'Autumn Blaze' :: Hybrid Maple\", \"Acer x freemanii 'Autumn Blaze' :: Autumn Blaze Freeman Maple\", 'Acer x freemanii :: Freeman Maple', 'Aesculus californica :: California Buckeye', 'Aesculus hippocastanum :: White Horsechestnut', 'Aesculus spp :: Horsechestnut', \"Aesculus x carnea 'Briotii' :: Ruby Horse Chestnut\", \"Aesculus x carnea 'O'Neill' :: O'Neill Red Horse Chestnut\", 'Aesculus x carnea :: Red Horse Chestnut', 'Afrocarpus gracilior :: Fern Pine', \"Agonis flexuosa 'After Dark' :: Peppermint willow 'After Dark'\", 'Agonis flexuosa :: Peppermint Willow', 'Ailanthus altissima :: Tree Of Heaven', 'Albizia distachya :: Plume Albizia Tree', 'Albizia julibrissin :: Mimosa Silk Tree', 'Alnus cordata :: Italian Alder', 'Alnus rhombifolia :: White Alder', 'Alnus rubra :: Red Alder', 'Aloe barberae :: Tree aloe', 'Angohpora spp. :: Angophora species', 'Araucaria araucana :: Monkey puzzle', 'Araucaria bidwillii :: Bunya Bunya', 'Araucaria columnaris :: Coral reef araucaria', 'Araucaria heterophylla :: Norfolk Island Pine', \"Arbutus 'Marina' :: Hybrid Strawberry Tree\", 'Arbutus menziesii :: Pacific Madrone', \"Arbutus unedo 'Compacta' :: Dwarf strawberry tree\", 'Arbutus unedo :: Strawberry Tree', 'Archontophoenix cunninghamiana :: King Palm', 'Archontophoenix myolensis :: Myola palm', \"Arctostaphylos manzanita 'Dr Hurd' :: Dr. Hurd Manzanita\", 'Arecastrum romanzoffianum :: Queen Palm', 'Auranticarpa rhombifolia :: Queensland Pittosporum', 'Azara microphylla :: Little-Leaf Azara', 'Bambusa spp :: Bamboo Species', 'Banksia integrifolia :: Coast Banksia', 'Beaucarnea recurvata :: Ponytail palm', 'Betula nigra :: River Birch', 'Betula pendula :: European White Birch', 'Betula spp :: Birch', 'Brachychiton acerifolius :: Australian Flame Tree', 'Brachychiton discolor ::', 'Brachychiton populneus :: Bottle Tree', 'Brachychiton rupestris :: Narrow-leaf bottle tree', 'Brahea aramata :: Mexican Blue Palm', 'Brahea armata :: Blue hesper palm', 'Brahea brandegeei :: San Jose hesper palm', 'Brahea edulis :: Guadalupe Palm', 'Brugmansia spp :: Angel trumpet', 'Butia capitata :: Pindo Palm', \"Callistemon 'Jeffers' :: Purple bottlebrush\", 'Callistemon citrinus :: Lemon Bottlebrush', 'Callistemon salignus :: White flowering bottlebrush', 'Callistemon viminalis :: Weeping Bottlebrush', 'Calocedrus decurrens :: Incense Cedar', \"Carpinus betulus 'Fastigiata' :: Upright European Hornbeam\", 'Carpinus betulus :: European Hornbeam', 'Carya illinoensis :: Pecan', \"Caryota maxima 'Himalaya' :: Himalayan Fishtail Palm\", 'Cassia excelsa :: Crown of Gold Tree', 'Cassia leptophylla :: Gold Medallion Tree', 'Castanea dentata :: American Chestnut', 'Casuarina cunninghamiana :: Horsetail pine', 'Casurina stricta :: Beefwood: Drooping She-Oak', 'Catalpa speciosa :: Northern Catalpa', \"Ceanothus 'Ray Hartman' :: California Lilac 'Ray Hartman'\", 'Ceanothus Sps :: California lilac', 'Ceanothus thyrsiflorus :: Blueblossom Ceanothus', 'Cedrela fissilis :: Argentine cedar', 'Cedrus atlantica :: Atlas Cedar', 'Cedrus atlantica Glauca :: Blue Atlas Cedar', 'Cedrus deodara :: Deodar Cedar', 'Cedrus libani :: Lebanon cedar', 'Ceiba speciosa :: Silk floss', 'Celtis australis :: European Hackberry', 'Celtis occidentalis :: Common Hackberry', 'Celtis sinensis :: Chinese Hackberry', 'Ceratonia siliqua :: Carob', 'Cercidiphyllum japonicum :: Katsura tree', \"Cercis canadensis 'Forest Pansy' :: Forest Pansy Redbud\", 'Cercis canadensis :: Eastern Redbud', 'Cercis occidentalis :: Western Redbud', 'Cercocarpus betuloides :: Mountain mahogany', 'Chamaecyparis lawsoniana :: Port Orford Cedar', 'Chamaecyparis obtusa :: Hinoki cypress', 'Chamaecyparis species ::', 'Chamaerops humilis :: Mediterranean Fan Palm', 'Chionanthus retusa :: Chinese Fringe Tree', 'Chiranthodendron pentadactylon :: Monkey Hand Tree', 'Chitalpa tashkentensis ::', 'Chorisia speciosa :: Silk Floss Tree', 'Cinnamomum camphora :: Camphor Tree', \"Citrus aurantifolia 'Bearss' :: Seedless Lime\", 'Citrus spp :: Lemon: Orange: Lime', 'Citrus x hystrix :: Kaffir lime', \"Citrus × limon 'Lisbon' :: Lisbon Lemon Tree\", \"Citrus × meyeri 'Improved' :: Improved Meyer Lemon\", 'Cordyline australis :: Dracena Palm', 'Cornus SPP :: Dogwood', 'Cornus florida :: Eastern Dogwood', \"Cornus nuttallii x florida 'Eddie's White Wonder' :: Eddie's White Wonder Dogwood\", 'Corylus colurna :: Hazel: Turkish', 'Corymbia calophylla ::', 'Corymbia citriodora :: Lemon Scented Gum', 'Corymbia ficifolia :: Red Flowering Gum', 'Corymbia maculata :: Spotted Gum', 'Corynocarpus laevigata :: New Zealand Laurel', \"Cotinus coggygria 'Royal Purple' :: Smoke tree\", 'Cotoneaster SPP :: Cotoneaster', \"Crataegus laevigata 'Paul's Scarlet' :: Paul's Scarlet Hawthorn\", 'Crataegus laevigata :: English Hawthorn', 'Crataegus phaenopyrum :: Washington Hawthorn', 'Crateagus spp :: Hawthorn', 'Crinodendron patagua :: Lily-of-the-Valley Tree', 'Cryptomeria japonica :: Japanese Cryptomeria', 'Cupaniopsis anacardioides :: Carrotwood', 'Cupressocyparis leylandii :: Leyland Cypress', 'Cupressus arizonica :: Arizona Cypress', 'Cupressus macrocarpa :: Monterey Cypress', 'Cupressus sempervirens :: Italian Cypress', 'Cupressus spp :: Cypress species', 'Cussonia spicata :: Cabbage tree', 'Cycas revoluta :: Sago palm', 'Dicksonia antarctica :: Soft Tree Fern', 'Diospyros kaki :: Persimmon', \"Dodonaea viscosa 'Purpurea' :: Purple Hopseed Bush\", 'Dodonaea viscosa :: Hop Bush', 'Dracaena draco :: Dragon Tree', 'Dypsis cabadae :: Cabada palm', 'Dypsis decaryi :: Triangle palm', 'Elaeocarpus decipiens :: Japanese Blueberry Tree', \"Eriobotrya deflexa 'Coppertone' :: Coppertone Loquat\", 'Eriobotrya deflexa :: Bronze Loquat', 'Eriobotrya japonica :: Edible Loquat', 'Erythrina caffra :: Coral tree', 'Escallonia bifida :: White escallonia', 'Eucalyptus Spp :: Eucalyptus', 'Eucalyptus camaldulensis :: River Red Gum', 'Eucalyptus cinerea :: Ash-colored Eucalyptus', 'Eucalyptus citriodora :: Lemon scented eucalyptus', 'Eucalyptus globulus :: Blue Gum', 'Eucalyptus gunnii :: Cider Gum', 'Eucalyptus lehmanni :: Bushy Yate', \"Eucalyptus leucoxylon mac 'Rosea' :: Yellow Gum\", 'Eucalyptus longifolia :: Woollybutt', 'Eucalyptus macarthuri :: Camden Wollybutt', 'Eucalyptus melliodora :: Yellow Box', 'Eucalyptus microtheca :: Flooded Box: Coolibah', \"Eucalyptus nicholii :: Nichol's Willow-Leafed Peppermint\", 'Eucalyptus odorata :: Peppermint Box', 'Eucalyptus polyanthemos :: Silver Dollar Eucalyptus', 'Eucalyptus pulverulenta :: Silver Mountain Gum Tree', 'Eucalyptus robusta :: Swamp mahogany', 'Eucalyptus rudis :: Swamp Gum: Flooded Gum', 'Eucalyptus saligna :: Sidney Blue Gum', 'Eucalyptus sideroxylon :: Red Ironbark', \"Eucalyptus simmondsi :: Simmond's Peppermint\", 'Eucalyptus torquata :: Coral Gum', 'Eucalyptus viminalis :: Manna Gum', 'Euphorbia ingens :: Candelabra tree', \"Fagus sylvatica 'Red Obelisk' :: Red Obelisk Beech\", 'Fagus sylvatica :: European Beech', 'Ficus Spp. ::', \"Ficus carica 'Black Mission' :: Black Mission Fig\", \"Ficus carica 'Brown Turkey' :: Brown Turkey Fig\", 'Ficus carica :: Edible Fig', 'Ficus laurel ::', 'Ficus macrophylla :: Morton Bay Fig', \"Ficus microcarpa 'Retusa' :: Pot Belly Fig\", 'Ficus microcarpa :: Chinese Banyan', \"Ficus microcarpa nitida 'Green Gem' :: Indian Laurel Fig Tree 'Green Gem'\", 'Ficus nitida :: Laurel Fig', 'Ficus retusa nitida :: Banyan Fig', 'Ficus rubiginosa :: Port Jackson Fig', 'Fortunella margarita :: Kumquat', \"Fraxinus americana 'Autumn Purple' :: American Autumn Purple Ash\", 'Fraxinus americana :: American Ash', 'Fraxinus angustifolia :: Narrow-leaved Ash', 'Fraxinus holotricha :: Holotricha Ash', 'Fraxinus ornus :: Flowering Ash', \"Fraxinus oxycarpa 'Raywood' :: Raywood Ash\", 'Fraxinus oxycarpa :: Ash', 'Fraxinus spp :: Ash Spp', \"Fraxinus uhdei 'Tomlinson' :: Tomlinson Ash\", 'Fraxinus uhdei :: Shamel Ash: Evergreen Ash', \"Fraxinus velutina 'Glabra' :: Arizona Ash\", \"Fraxinus velutina 'Modesto' :: Modesto Ash Tree 'Modesto'\", 'Fraxinus velutina :: Modesto Ash', 'Fraxinus x Moraine :: Moraine Ash', 'Fremontodendron spp :: Flannel Bush Tree', \"Garrya elliptica 'Evie' :: Evie Coast Silktassel Tree\", \"Garrya elliptica 'James Roof' :: James Roof Coast Silktassel Tree\", 'Geijera parviflora :: Australian Willow', 'Geijera spp :: Geijera', \"Ginkgo biloba 'Autumn Gold' :: Ginkgo: Autumn Gold\", \"Ginkgo biloba 'Autumn Sentinel' :: Autumn Sentinel Ginkgo\", \"Ginkgo biloba 'Fairmont' :: Fairmont Ginkgo\", \"Ginkgo biloba 'Princeton Sentry' :: Princeton Sentry Maidenhair\", \"Ginkgo biloba 'Saratoga' :: Ginkgo: Saratoga\", 'Ginkgo biloba :: Maidenhair Tree', \"Gleditsia triacanthos 'Aurea' :: Honey Locust 'Aurea'\", \"Gleditsia triacanthos 'Shademaster' :: Honey Locust 'Shademaster'\", \"Gleditsia triacanthos 'Sunburst' :: Sunburst Honey Locust\", 'Gleditsia triacanthos :: Honey Locust', \"Grevillea 'Red Hooks' :: Silk Oak Tree 'Red Hooks'\", 'Grevillea robusta :: Silk Oak Tree', 'Grevillea spp :: Silkoak species', 'Griselinia lucida :: Griselinia', 'Hakea laurina :: Sea Urchin Tree', 'Hakea suaveolens :: Sweet Hakea Tree', 'Heteromeles arbutifolia :: Toyon', 'Howea forsteriana :: Kentia Palm', 'Hymenosporum flavum :: Sweet Shade', 'Hymenosporum flavum :: Sweetshade', \"Ilex altaclarensis 'Wilsonii' :: Wilson Holly Tree\", 'Ilex aquifolium :: European Holly', 'Ilex opaca :: American Holly', 'Ilex spp :: Holly Species', 'Jacaranda mimosifolia :: Jacaranda', 'Jubaea chilensis :: Chilean Wine Palm', \"Juglans 'Paradox' :: Paradox Walnut Tree 'Paradox'\", 'Juglans californica :: Walnut: Black (s.calif)', 'Juglans hindsii :: Walnut: Black (n.calif)', 'Juglans nigra :: Eastern black walnut', 'Juglans regia :: Walnut: English', 'Juniperus californica :: California juniper', 'Juniperus chinensis :: Juniper', \"Juniperus scopulorum 'Pat :: Juniper Tree 'Pathfinder'\", 'Juniperus silicicola :: Southern red cedar', 'Koelreuteria bipinnata :: Chinese Flame Tree', 'Koelreuteria paniculata :: Golden Rain Tree', \"Lagerstroemia indica 'Natchez' :: Natchez Crape Myrtle\", \"Lagerstroemia indica 'Tuscarora' :: Tuscarora Crape Myrtle\", 'Lagerstroemia indica :: Crape Myrtle', 'Lagerstroemia spp :: Crape myrtle species', \"Lagerstroemia x 'Tuscarora' :: Tuscarora Crape Myrtle\", 'Lagunaria patersonii :: Primrose Tree', 'Laurus nobilis :: Sweet Bay: Grecian Laurel', \"Laurus x 'Saratoga' :: Hybrid Laurel\", 'Leptospermum laevigatum :: Australian Tea Tree', 'Leptospermum petersonii :: Lemon Scented Tea Tree', 'Leptospermum quinquenervia :: Tea Tree', \"Leptospermum scoparium  'Helene Strybing' :: Helene Strybing New Zealand Tea Tree\", \"Leptospermum scoparium 'Ruby Glow' :: New Zealand Ruby Glow Tea Tree\", \"Leptospermum scoparium 'Snow White' :: New Zealand White Tea Tree\", 'Leptospermum scoparium :: New Zealand Tea Tree', \"Leucadendron 'Gold Strike' :: Yellow conebush\", 'Leucodendron argenteum :: Silver Tree', 'Ligustrum japonicum :: Japanese Privet', 'Ligustrum lucidum :: Glossy Privet', 'Ligustrum ovalifolium :: California privet', 'Liquidambar formosana :: Chinese Sweet Gum', 'Liquidambar orientalis :: Oriental Sweet Gum', \"Liquidambar styraciflua 'Burgundy' :: Burgundy Sweet Gum\", \"Liquidambar styraciflua 'Festival' :: Festival Sweet Gum\", \"Liquidambar styraciflua 'Palo Alto' :: Palo Alto Sweet Gum\", \"Liquidambar styraciflua 'Rotundiloba' :: Roundleaf sweetgum\", \"Liquidambar styraciflua 'Slender Silhoutte' :: Upright Liquidambar\", 'Liquidambar styraciflua :: American Sweet Gum', 'Liriodendron tulipifera :: Tulip Tree', 'Lithocarpus densiflorus :: Tan Oak', 'Livistona chinensis :: Chinese fan palm', 'Lophostemon confertus :: Brisbane Box', 'Lyonothamnus floribundus subsp. asplenifolius :: Santa Cruz Ironwood', 'Macadamia tetraphylla :: Macadamia', 'Magnolia champaca :: Champa', \"Magnolia doltsopa 'Silvercloud' :: Silvercloud Magnolia\", 'Magnolia doltsopa :: Himalayan Magnolia', \"Magnolia grandiflora 'D.D. Blanchard' :: D.D. Blanchard Southern Magnolia\", \"Magnolia grandiflora 'Little Gem' :: Little Gem Magnolia\", \"Magnolia grandiflora 'Majestic Beauty' :: Majestic Beauty Magnolia\", \"Magnolia grandiflora 'Russet' :: Russet Magnolia\", \"Magnolia grandiflora 'Saint Mary' :: Saint Mary Magnolia\", \"Magnolia grandiflora 'Samuel Sommer' :: Samuel Sommer Magnolia\", \"Magnolia grandiflora 'Timeless Beauty' :: Timeless Beauty Southern Magnolia\", 'Magnolia grandiflora :: Southern Magnolia', \"Magnolia sargentiana 'Robusta' :: Robusta Magnolia\", 'Magnolia spp :: Magnolia', 'Magnolia x alba :: White Champaca', \"Magnolia x foggii 'Jack Fogg' :: Jack Fogg Michelia\", \"Magnolia x soulangiana 'Rustica Rubra' :: Chinese Magnolia\", 'Magnolia x soulangiana :: Saucer Magnolia', \"Malus 'Gala' :: Apple Tree 'Gala'\", 'Malus :: Crab Apple', \"Malus floribunda 'Prairie Fire' :: Prairie Fire Crabapple Tree\", 'Malus floribunda :: Showy Crab Apple: Japanese Crabapple', 'Malus sylvestris :: Apple', \"Malus x 'Callaway' :: White-Flowered Crabapple\", 'Mangifera indica :: Mango', \"Maytenus boaria 'Green Showers' :: Meyten Tree 'Green Showers'\", 'Maytenus boaria :: Mayten', 'Melaleuca ericifolia :: Heath Melaleuca', 'Melaleuca leucadendron :: Weeping Tea Tree', 'Melaleuca linariifolia :: Flaxleaf Paperbark', 'Melaleuca nesophila :: Pink Melaleuca', 'Melaleuca quinquenervia :: Cajeput', 'Melaleuca spp :: Melaleuca spp', 'Melaleuca styphelliodes :: Paperbark Tree', 'Melia azerdarach :: Chinaberry', 'Meryta sinclairii :: Puka or puke tree', 'Metasequoia glyplostroboides :: Dawn Redwood', \"Metrosideros excelsa 'Aurea' ::\", 'Metrosideros excelsa :: New Zealand Xmas Tree', 'Metrosideros robusta :: Northern Rata Tree', 'Metrosideros spp ::', 'Moringa oleifera :: Drumstick tree', 'Morus alba :: White Mulberry', 'Morus rubra :: Red mulbeerry', 'Musa spp :: Banana', 'Myoporum laetum :: Myoporum', 'Myrica californica :: Pacific Wax Myrtle Tree', 'Nerium oleander :: Oleander', 'New Zealand Tea Tree :: New Zealand Tea Tree', 'Nyssa sylvatica :: Tupelo: Sour Gum', 'Olea Majestic Beauty ::', \"Olea europaea 'Fruitless' :: Fruitless Olive\", \"Olea europaea 'Majestic Beauty' :: Majestic Beauty Fruitless Olive\", \"Olea europaea 'Swan Hill' :: Olive\", \"Olea europaea 'Wilsonii' :: Wilson Olive Semi-fruitless\", 'Olea europaea :: Olive Tree', 'Palm (unknown Genus) :: Palm Spp', 'Paulownia fortunei :: Dragon tree', 'Paulownia tomentosa :: Empress Tree', \"Persea americana 'Stewart' :: Stewart Avocado\", 'Persea americana :: Avocado', 'Persea borbonia :: False Avocado', 'Persea indica :: Indian Bay', 'Phoenix canariensis :: Canary Island Date Palm', 'Phoenix dactylifera :: Date Palm', 'Phoenix reclinata :: Senegal date palm', 'Phoenix roebelenii :: Pigmy Date Palm', 'Phoenix rupicola :: Cliff date palm', 'Phoenix spp :: Date palm (species unknown)', 'Photinia fraseri :: Photinia Tree', 'Photinia fraseri :: Photinia: Chinese photinia', 'Picea Spp :: Spruce Spp', 'Pinus Spp :: Pine Spp', 'Pinus canariensis :: Canary Island Pine', 'Pinus contorta :: Shore Pine', 'Pinus coulteri :: Coulter pine', 'Pinus halepensis :: Allepo Pine', 'Pinus muricata :: Bishop Pine', 'Pinus pinaster :: Maritime Pine', 'Pinus pinea :: Italian Stone Pine', 'Pinus radiata :: Monterey Pine', 'Pinus strobus :: Eastern white pine', 'Pinus sylvestris :: Scots Pine', \"Pinus thunbergii 'Thunderhead' :: Thunderhead Pine\", 'Pinus thunbergii :: Japanese Black Pine', 'Pinus torreyana :: Torrey Pine', 'Pistacia chinensis :: Chinese Pistache', 'Pittosporum crassifolium :: Karo Tree', 'Pittosporum eugenioides :: Tarata', 'Pittosporum spp :: Pittosporum spp', 'Pittosporum tenuifolium :: Tawhiwhi Pittosporum', 'Pittosporum tobira :: Japanese Mockorange', 'Pittosporum undulatum :: Victorian Box', 'Platanus occidentalis :: American sycamore', 'Platanus orientalis :: Eastern Plane Tree', 'Platanus racemosa :: California Sycamore', \"Platanus x hispanica 'Bloodgood' :: Bloodgood London Plane\", \"Platanus x hispanica 'Columbia' :: Columbia Hybrid Plane Tree\", \"Platanus x hispanica 'Yarwood' :: Yarwood Sycamore\", 'Platanus x hispanica :: Sycamore: London Plane', 'Podocarpus gracilor :: Fern Pine', 'Podocarpus henkelii :: Long-Leafed Yellow-Wood', 'Podocarpus macrophyllus :: Yew Pine', 'Populus alba :: White Poplar', 'Populus canadensis :: Canadian Poplar', 'Populus deltoides :: Eastern cottonwood', \"Populus nigra 'Italica' :: Lombardy Poplar\", 'Populus spp :: Poplar Spp', 'Populus tremuloides :: Quaking aspen', 'Populus trichocarpa :: Black Cottonwood Poplar', 'Potential Site :: Potential Site', 'Private shrub :: Private Shrub', 'Privet ::', 'Prunus amygdalus :: Almond', 'Prunus armeniaca :: Apricot', 'Prunus blireiana :: Flowering Plum', 'Prunus campanulata :: Taiwan Flowering Cherry', 'Prunus caroliniana :: Carolina Cherry Laurel', \"Prunus cerasifera 'Atropurpurea' :: Purple-Leaf Plum\", \"Prunus cerasifera 'Krauter vesuvius' :: Purple Leaf Plum Krauter Vesuvius\", \"Prunus cerasifera 'Thundercloud' :: Purple-Leaf Plum 'Thundercloud'\", 'Prunus cerasifera :: Cherry Plum', \"Prunus domestica 'Green Gage' :: Green Gage Plum\", \"Prunus domestica 'Mariposa' :: Mariposa Plum\", \"Prunus domestica 'Santa Rosa' :: Santa Rosa Plum\", 'Prunus ilicifoia :: Holly-leaved Cherry', 'Prunus laurocerasus :: English laurel', 'Prunus lusitanica :: Portugese Cherry Laurel', 'Prunus lyonii :: Catalina Cherry', 'Prunus persica :: Peach', 'Prunus persica nectarina :: Flowering Nectarine Tree', \"Prunus sargentii 'Columnaris' :: Sargent Cherry Tree 'Columnaris'\", 'Prunus sargentii :: Sargent Cherry', 'Prunus serrula :: Birchbark Cherry', \"Prunus serrulata 'Akebono' :: 'Akebono' Cherry\", \"Prunus serrulata 'Amanagawa' :: Flowering Cherry Tree 'Amanagawa'\", \"Prunus serrulata 'Double Pink Weeping' :: Weeping Double Pink Flowering Cherry\", \"Prunus serrulata 'Kwanzan' :: Kwanzan Flowering Cherry\", \"Prunus serrulata 'Mt. Fuji' :: Mt. Fuji Cherry Tree\", \"Prunus serrulata 'Royal Burgundy' :: Royal Burgundy Flowering Cherry Tree\", 'Prunus serrulata :: Ornamental Cherry', \"Prunus spp 'Purpurea' :: Cherry Plum\", 'Prunus spp :: Cherry', 'Prunus spp :: Flowering Plum', \"Prunus subhirtella 'Pendula' :: Weeping Cherry\", \"Prunus subhirtella 'autumnalis' :: Higan Cherry\", \"Prunus x 'Amanogawa' :: Flowering Cherry\", \"Prunus x yedoensis 'Akebono' :: Daybreak Yoshino Cherry\", 'Prunus x yedoensis :: Yoshino Cherry', 'Pseudopanax lessonii :: Five finger', 'Pseudotsuga menziesii :: Douglas Fir', 'Psidium guajava :: Guava tree', \"Punica granatum 'Wonderfu :: Pomegranate Tree 'Wonderful'\", \"Pyracantha  'Santa Cruz' :: Firethorn Tree 'Santa Cruz'\", \"Pyrus calleryana 'Aristocrat' :: Aristocrat Callery Pear\", \"Pyrus calleryana 'Bradford' :: Ornamental Pear: Bradford\", \"Pyrus calleryana 'Capital' :: Ornamental Pear Tree 'Capital'\", \"Pyrus calleryana 'Chanticleer' :: Ornamental Pear Tree 'Chanticleer'\", \"Pyrus calleryana 'Cleveland' :: Ornamental Pear Tree 'Cleveland'\", \"Pyrus calleryana 'New Bradford' :: New Bradford Pear\", \"Pyrus calleryana 'Redspire' :: Ornamental Pear Tree 'Redspire'\", 'Pyrus calleryana :: Ornamental Pear', 'Pyrus kawakamii :: Evergreen Pear', \"Pyrus pyrifolia '20th Century' :: Asian Pear '20th Century'\", \"Pyrus pyrifolia 'Sainseiki' :: Asian Pear 'Sainseiki'\", 'Pyrus spp :: Pear Tree', \"Pyrus x 'Bartlett' :: Bartlett Pear\", 'Quercus agrifolia :: Coast Live Oak', 'Quercus alba :: White oak', 'Quercus coccinea :: Scarlet Oak', 'Quercus douglasii :: Blue Oak', 'Quercus engelmannii :: Engelmann oak', \"Quercus frainetto 'Trump' :: Hungarian Oak\", 'Quercus ilex :: Holly Oak', 'Quercus keloggii :: California Black Oak', 'Quercus lobata :: Valley Oak', 'Quercus palustris :: Pin Oak', 'Quercus robur :: English Oak', 'Quercus rubra :: Red Oak', 'Quercus spp :: Oak', 'Quercus suber :: Cork Oak', 'Quercus tomentella :: Island oak', 'Quercus virginiana :: Southern Live Oak', 'Quercus wislizenii :: Interior Live Oak', 'Quillaja saponaria :: Chilean Soapbark', 'Radermachera sinica :: China Doll Tree', \"Rhamnus alaternus 'John Edwards' :: John Edwards Buckthorn\", 'Rhamnus alaternus :: Italian Buckthorn', 'Rhamnus californica :: Coffeeberry Tree', \"Rhaphiolepis Majestic Beauty :: Indian Hawthorn  'Majestic Beau'\", 'Rhaphiolepis indica :: India Hawthorn', 'Rhopalostylis baueri :: Palm', 'Rhopalostylis sapida :: Nikau palm', 'Rhus lancea :: African Sumac', 'Rhus typhina :: Staghorn sumac', \"Robinia pseudoacacia 'Umbraculifera' :: Globe Locust\", 'Robinia pseudoacacia :: Black Locust', \"Robinia x ambigua 'Idahoensis' :: Idaho Pink Locust\", \"Robinia x ambigua 'Purple Robe' :: Purple Robe Locust\", 'Robinia x ambigua :: Locust', 'Salix babylonica :: Weeping Willow', 'Salix discolor :: Pussy Willow', 'Salix lasiolepis :: Arroyo willow', \"Salix matsudana 'Tortuosa' :: Corkscrew Willow\", 'Salix spp :: Willow', 'Sambucus mexicana :: Blue Elderberry', 'Sambucus species :: Elderberry', 'Sapium sebiferum :: Chinese Tallow', 'Schefflera species :: Umbrella tree', 'Schinus molle :: California Pepper', 'Schinus polygamus :: Chilean pepper tree', 'Schinus terebinthifolius :: Brazilian Pepper', 'Sequoia sempervirens :: Coast Redwood', 'Sequoiadendron giganteum :: Sierra Redwood', 'Shrub :: Shrub', 'Solanum rantonnetti ::', \"Sophora japonica 'Regent' :: Regent Scholar Tree\", 'Sophora japonica :: Japanese Pagoda', 'Sorbus aucuparia :: European Mountain Ash Tr', 'Stenocarpus sinuatus :: Firewheel tree', 'Styphnolobium japonicum :: Chinese scholar tree', 'Styrax japonicus :: Japanese Snowdrop Tree', 'Syagrus romanzoffianum :: Queen Palm', 'Syringa :: Lilac Tree', 'Syzygium australe :: Eugenia', 'Syzygium paniculatum :: Brush Cherry', 'Taxodium mucronatum :: Montezuma Cypress', 'Taxus baccata :: Irish Yew', 'Tecoma stans :: Trumpet bush', \"Thuja occidentalis 'Emerald' :: Emerald Arborvitae\", 'Thuja plicata :: Western Red Cedar', 'Tibochina urvilleana :: Princess Flower', \"Tilia americana 'Redmond' :: Redmond Linden\", 'Tilia americana :: Basswood Linden', 'Tilia cordata :: Littleleaf Linden', 'Tilia spp :: Linden', 'Tilia tomentosa :: Silver Linden', 'Torreya californica :: California nutmeg', 'Trachycarpus fortunei :: Windmill Palm', 'Tree(s) ::', 'Tristania conferta ::', \"Tristaniopsis laurina 'Elegant' :: Small-leaf Tristania 'Elegant'\", 'Tristaniopsis laurina :: Swamp Myrtle', \"Ulmus 'Frontier' :: Frontier Elm\", \"Ulmus 'Prospector' :: Prospector Elm\", 'Ulmus americana :: American Elm', \"Ulmus carpinifolia 'Frontier' :: Frontier Elm 'Frontier'\", 'Ulmus glabra :: Scotch Elm', \"Ulmus parvifolia 'Athena' :: Chinese Elm 'Athena'\", \"Ulmus parvifolia 'Drake' :: Drake's Chinese Elm\", \"Ulmus parvifolia 'Sempervirens' :: Weeping Chinese Elm\", \"Ulmus parvifolia 'True Green' :: True Green Chinese Elm\", 'Ulmus parvifolia :: Chinese Elm', 'Ulmus procera :: English Elm', \"Ulmus propinqua 'Emerald Sunshine' :: Emerald Sunshine Elm\", 'Ulmus pumila :: Siberian Elm', 'Ulmus spp :: Elm Spp', 'Umbellularia californica :: California Bay', 'Viburnum odoratissimum var. awabuki :: Sweet viburnum', 'Vitex lucens :: Puriri tree', 'Washingtonia filifera :: California Fan Palm', 'Washingtonia robusta :: Mexican Fan Palm', 'Wodyetia bifurcata :: Foxtail palm', 'Xylosma congestum :: Brush holly', 'Yucca aloifolia :: Spanish bayonet', 'Yucca elephantipes :: Giant Yucca', 'Yucca gloriosa :: Spanish Dagger', 'Yucca spp :: Yucca', \"Zelkova serrata 'Village Green' :: Village Green Zelkova\", 'Zelkova serrata :: Sawleaf Zelkova', 'Ziziphus jujuba :: Jujube', 'patanus racemosa ::', 'x Chiranthofremontia lenzii :: Hybrid Monkey Hand Tree']\n"
     ]
    }
   ],
   "source": [
    "print(data.qSpecies.cat.categories.to_list())"
   ]
  },
  {
   "cell_type": "markdown",
   "id": "e93177be",
   "metadata": {},
   "source": [
    "We'll remove trees without proper species names:"
   ]
  },
  {
   "cell_type": "code",
   "execution_count": 94,
   "id": "3e860a06",
   "metadata": {},
   "outputs": [
    {
     "name": "stdout",
     "output_type": "stream",
     "text": [
      "<class 'pandas.core.frame.DataFrame'>\n",
      "Int64Index: 175092 entries, 121399 to 15238\n",
      "Data columns (total 4 columns):\n",
      " #   Column     Non-Null Count   Dtype   \n",
      "---  ------     --------------   -----   \n",
      " 0   qSpecies   175092 non-null  category\n",
      " 1   qAddress   175092 non-null  string  \n",
      " 2   SiteOrder  175092 non-null  int8    \n",
      " 3   qSiteInfo  175092 non-null  category\n",
      "dtypes: category(2), int8(1), string(1)\n",
      "memory usage: 3.4 MB\n"
     ]
    }
   ],
   "source": [
    "non_species_categories = ['::', ':: To Be Determine', ':: Tree', 'Tree(s) ::', \n",
    "                          'Potential Site :: Potential Site', 'Private shrub :: Private Shrub']\n",
    "data = data.loc[~data.qSpecies.isin(non_species_categories)]\n",
    "data.info()"
   ]
  },
  {
   "cell_type": "markdown",
   "id": "23e7bb06",
   "metadata": {},
   "source": [
    "cleaned_path = os.path.join('..', 'src', 'SF_Tree_Identifier', 'data', 'Cleaned_Street_Tree_List.csv')\n",
    "data.to_csv(cleaned_path)"
   ]
  },
  {
   "cell_type": "markdown",
   "id": "74455312",
   "metadata": {
    "scrolled": true
   },
   "source": [
    "Now that we've got a dataframe containing mostly usable trees, it's time to assign a webpage to each species so the user can get information about the tree. Specifically, the webpage will be the specie's corresponding 'SelecTree' page found on CalPoly's Urban Forestry Research Insitute: https://selectree.calpoly.edu/\n",
    "\n",
    "SelecTree uses an unique integer (or key) for the URL path to each species of tree. For example, in the URL for the Red Flowering Gum (Corymbia Ficifolia), https://selectree.calpoly.edu/tree-detail/540, the key is 540. This is opposed to, say, wikipedia, where the URL path is typically the name of the article itself (i.e. https://en.wikipedia.org/wiki/Corymbia_ficifolia). Consequently, to save a means of returning a URL for each tree, we need to first get these keys for every species.\n",
    "\n",
    "Fortunately, SelecTree also has an API endpoint that allows search by name: https://selectree.calpoly.edu/api/search-by-name-multiresult\n",
    "\n",
    "Species names can be queried using the [requests package](https://requests.readthedocs.io/en/latest/) via:\n",
    "```\n",
    "import requests\n",
    "url = 'https://selectree.calpoly.edu/api/search-by-name-multiresult'\n",
    "payload = {'searchTerm': species_name, 'activePage': 1, 'resultsPerPage': 1, 'sort': 1}\n",
    "r = requests.get(url, params=payload)\n",
    "```\n",
    "\n",
    "where 'species_name' is the species name being queried and r is the response from the request. The json response received can then be queried for the url path of the first results using:\n",
    "```\n",
    "path_id = r.json()['pageResults'][0]['tree_id']\n",
    "```\n",
    "\n",
    "Through some experimentation, I found that the SelecTree search works using the scientific name of *most* of the species left in the database. There are two major edge cases:\n",
    "1. Trees containing only genus names\n",
    "2. Cross bred species\n",
    "\n",
    "The tree's containing genus names (or 'generic epithets') but not the species names are denoted by *genus_name spp* in the scientific portion of the tree's qSpecies column:"
   ]
  },
  {
   "cell_type": "code",
   "execution_count": 95,
   "id": "33749a3c",
   "metadata": {
    "scrolled": true
   },
   "outputs": [
    {
     "data": {
      "text/plain": [
       "<StringArray>\n",
       "[            'Melaleuca spp :: Melaleuca spp',\n",
       "                          'Acer spp :: Maple',\n",
       "                        'Salix spp :: Willow',\n",
       "                   'Acacia spp :: Acacia Spp',\n",
       "                       'Prunus spp :: Cherry',\n",
       "                         'Quercus spp :: Oak',\n",
       "                  'Ilex spp :: Holly Species',\n",
       "                   'Magnolia spp :: Magnolia',\n",
       "          'Citrus spp :: Lemon: Orange: Lime',\n",
       "            'Brugmansia spp :: Angel trumpet',\n",
       "                    'Fraxinus spp :: Ash Spp',\n",
       "                       'Ulmus spp :: Elm Spp',\n",
       "                         'Yucca spp :: Yucca',\n",
       "                        'Tilia spp :: Linden',\n",
       "                        'Betula spp :: Birch',\n",
       "         'Pittosporum spp :: Pittosporum spp',\n",
       "                  'Crateagus spp :: Hawthorn',\n",
       "   'Fremontodendron spp :: Flannel Bush Tree',\n",
       "           'Grevillea spp :: Silkoak species',\n",
       "                        'Metrosideros spp ::',\n",
       "  'Lagerstroemia spp :: Crape myrtle species',\n",
       "                  'Populus spp :: Poplar Spp',\n",
       "                     'Pyrus spp :: Pear Tree',\n",
       "              'Bambusa spp :: Bamboo Species',\n",
       "               'Prunus spp :: Flowering Plum',\n",
       " 'Phoenix spp :: Date palm (species unknown)',\n",
       "                         'Musa spp :: Banana',\n",
       "           'Cupressus spp :: Cypress species',\n",
       "       \"Prunus spp 'Purpurea' :: Cherry Plum\",\n",
       "                     'Geijera spp :: Geijera',\n",
       "        'Angohpora spp. :: Angophora species']\n",
       "Length: 31, dtype: string"
      ]
     },
     "execution_count": 95,
     "metadata": {},
     "output_type": "execute_result"
    }
   ],
   "source": [
    "data = data.astype({'qSpecies': 'string'})\n",
    "data.loc[data.qSpecies.str.contains('spp')].qSpecies.unique()"
   ]
  },
  {
   "cell_type": "markdown",
   "id": "8d3ceae5",
   "metadata": {},
   "source": [
    "For most of these, using the common name (with 'spp' removed if needed) should work well enough. For the few remaining, I may need to manually add a name, but as there should be very few this shouldn't be an issue.\n",
    "\n",
    "The second edge case, cross bred species, are denoted by *first species x second species* in the "
   ]
  },
  {
   "cell_type": "code",
   "execution_count": 96,
   "id": "5c7f791b",
   "metadata": {},
   "outputs": [
    {
     "data": {
      "text/plain": [
       "<StringArray>\n",
       "[                                   'Platanus x hispanica :: Sycamore: London Plane',\n",
       "                        \"Magnolia x soulangiana 'Rustica Rubra' :: Chinese Magnolia\",\n",
       "                                \"Platanus x hispanica 'Yarwood' :: Yarwood Sycamore\",\n",
       "                                              \"Laurus x 'Saratoga' :: Hybrid Laurel\",\n",
       "                                         'Magnolia x soulangiana :: Saucer Magnolia',\n",
       " \"Cornus nuttallii x florida 'Eddie's White Wonder' :: Eddie's White Wonder Dogwood\",\n",
       "                                \"Aesculus x carnea 'Briotii' :: Ruby Horse Chestnut\",\n",
       "                                               \"Pyrus x 'Bartlett' :: Bartlett Pear\",\n",
       "                     \"Platanus x hispanica 'Columbia' :: Columbia Hybrid Plane Tree\",\n",
       "                                           'Aesculus x carnea :: Red Horse Chestnut',\n",
       "                                                 'Acer x freemanii :: Freeman Maple',\n",
       "                                              'Prunus x yedoensis :: Yoshino Cherry',\n",
       "                             \"Robinia x ambigua 'Purple Robe' :: Purple Robe Locust\",\n",
       "                           \"Prunus x yedoensis 'Akebono' :: Daybreak Yoshino Cherry\",\n",
       "                               \"Robinia x ambigua 'Idahoensis' :: Idaho Pink Locust\",\n",
       "                                                 'Fraxinus x Moraine :: Moraine Ash',\n",
       "                        \"Platanus x hispanica 'Bloodgood' :: Bloodgood London Plane\",\n",
       "                                                       'Robinia x ambigua :: Locust',\n",
       "                     \"Acer x freemanii 'Autumn Blaze' :: Autumn Blaze Freeman Maple\",\n",
       "                                    \"Malus x 'Callaway' :: White-Flowered Crabapple\",\n",
       "                                                   'Citrus x hystrix :: Kaffir lime',\n",
       "                                                 'Magnolia x alba :: White Champaca',\n",
       "                                          \"Prunus x 'Amanogawa' :: Flowering Cherry\",\n",
       "                                             \"Acer x 'Autumn Blaze' :: Hybrid Maple\",\n",
       "                               \"Magnolia x foggii 'Jack Fogg' :: Jack Fogg Michelia\",\n",
       "                             \"Lagerstroemia x 'Tuscarora' :: Tuscarora Crape Myrtle\",\n",
       "                         \"Aesculus x carnea 'O'Neill' :: O'Neill Red Horse Chestnut\"]\n",
       "Length: 27, dtype: string"
      ]
     },
     "execution_count": 96,
     "metadata": {},
     "output_type": "execute_result"
    }
   ],
   "source": [
    "data = data.astype({'qSpecies': 'string'})\n",
    "data.loc[data.qSpecies.str.contains(' x ')].qSpecies.unique()"
   ]
  },
  {
   "cell_type": "markdown",
   "id": "3f650bb4",
   "metadata": {},
   "source": [
    "To assign the url paths to the species names, we'll first create a dataframe containing all of the unique species and split the species name into scientific names and common names:"
   ]
  },
  {
   "cell_type": "code",
   "execution_count": 97,
   "id": "2d87dfd1",
   "metadata": {
    "scrolled": true
   },
   "outputs": [
    {
     "data": {
      "text/plain": [
       "0                Corymbia ficifolia :: Red Flowering Gum\n",
       "1      Eucalyptus polyanthemos :: Silver Dollar Eucal...\n",
       "2                  Lophostemon confertus :: Brisbane Box\n",
       "3               Cupressus macrocarpa :: Monterey Cypress\n",
       "4                     Jacaranda mimosifolia :: Jacaranda\n",
       "                             ...                        \n",
       "560    Pyrus pyrifolia '20th Century' :: Asian Pear '...\n",
       "561       Acer palmatum 'Sango Kaku' :: Coral Bark Maple\n",
       "562    Prunus sargentii 'Columnaris' :: Sargent Cherr...\n",
       "563                  Paulownia tomentosa :: Empress Tree\n",
       "564    Prunus persica nectarina :: Flowering Nectarin...\n",
       "Length: 565, dtype: string"
      ]
     },
     "execution_count": 97,
     "metadata": {},
     "output_type": "execute_result"
    }
   ],
   "source": [
    "data = data.astype({'qSpecies': 'string'})\n",
    "species_names = pd.Series(data.qSpecies.unique())\n",
    "species_names"
   ]
  },
  {
   "cell_type": "code",
   "execution_count": 98,
   "id": "abb68fa7",
   "metadata": {},
   "outputs": [
    {
     "data": {
      "text/html": [
       "<div>\n",
       "<style scoped>\n",
       "    .dataframe tbody tr th:only-of-type {\n",
       "        vertical-align: middle;\n",
       "    }\n",
       "\n",
       "    .dataframe tbody tr th {\n",
       "        vertical-align: top;\n",
       "    }\n",
       "\n",
       "    .dataframe thead th {\n",
       "        text-align: right;\n",
       "    }\n",
       "</style>\n",
       "<table border=\"1\" class=\"dataframe\">\n",
       "  <thead>\n",
       "    <tr style=\"text-align: right;\">\n",
       "      <th></th>\n",
       "      <th>0</th>\n",
       "      <th>1</th>\n",
       "    </tr>\n",
       "  </thead>\n",
       "  <tbody>\n",
       "    <tr>\n",
       "      <th>0</th>\n",
       "      <td>Corymbia ficifolia :: Red Flowering Gum</td>\n",
       "      <td>0</td>\n",
       "    </tr>\n",
       "    <tr>\n",
       "      <th>1</th>\n",
       "      <td>Eucalyptus polyanthemos :: Silver Dollar Eucal...</td>\n",
       "      <td>0</td>\n",
       "    </tr>\n",
       "    <tr>\n",
       "      <th>2</th>\n",
       "      <td>Lophostemon confertus :: Brisbane Box</td>\n",
       "      <td>0</td>\n",
       "    </tr>\n",
       "    <tr>\n",
       "      <th>3</th>\n",
       "      <td>Cupressus macrocarpa :: Monterey Cypress</td>\n",
       "      <td>0</td>\n",
       "    </tr>\n",
       "    <tr>\n",
       "      <th>4</th>\n",
       "      <td>Jacaranda mimosifolia :: Jacaranda</td>\n",
       "      <td>0</td>\n",
       "    </tr>\n",
       "    <tr>\n",
       "      <th>...</th>\n",
       "      <td>...</td>\n",
       "      <td>...</td>\n",
       "    </tr>\n",
       "    <tr>\n",
       "      <th>560</th>\n",
       "      <td>Pyrus pyrifolia '20th Century' :: Asian Pear '...</td>\n",
       "      <td>0</td>\n",
       "    </tr>\n",
       "    <tr>\n",
       "      <th>561</th>\n",
       "      <td>Acer palmatum 'Sango Kaku' :: Coral Bark Maple</td>\n",
       "      <td>0</td>\n",
       "    </tr>\n",
       "    <tr>\n",
       "      <th>562</th>\n",
       "      <td>Prunus sargentii 'Columnaris' :: Sargent Cherr...</td>\n",
       "      <td>0</td>\n",
       "    </tr>\n",
       "    <tr>\n",
       "      <th>563</th>\n",
       "      <td>Paulownia tomentosa :: Empress Tree</td>\n",
       "      <td>0</td>\n",
       "    </tr>\n",
       "    <tr>\n",
       "      <th>564</th>\n",
       "      <td>Prunus persica nectarina :: Flowering Nectarin...</td>\n",
       "      <td>0</td>\n",
       "    </tr>\n",
       "  </tbody>\n",
       "</table>\n",
       "<p>565 rows × 2 columns</p>\n",
       "</div>"
      ],
      "text/plain": [
       "                                                     0  1\n",
       "0              Corymbia ficifolia :: Red Flowering Gum  0\n",
       "1    Eucalyptus polyanthemos :: Silver Dollar Eucal...  0\n",
       "2                Lophostemon confertus :: Brisbane Box  0\n",
       "3             Cupressus macrocarpa :: Monterey Cypress  0\n",
       "4                   Jacaranda mimosifolia :: Jacaranda  0\n",
       "..                                                 ... ..\n",
       "560  Pyrus pyrifolia '20th Century' :: Asian Pear '...  0\n",
       "561     Acer palmatum 'Sango Kaku' :: Coral Bark Maple  0\n",
       "562  Prunus sargentii 'Columnaris' :: Sargent Cherr...  0\n",
       "563                Paulownia tomentosa :: Empress Tree  0\n",
       "564  Prunus persica nectarina :: Flowering Nectarin...  0\n",
       "\n",
       "[565 rows x 2 columns]"
      ]
     },
     "execution_count": 98,
     "metadata": {},
     "output_type": "execute_result"
    }
   ],
   "source": [
    "import numpy as np\n",
    "urls = pd.Series(np.zeros(len(species_names)), dtype='uint16')\n",
    "pd.concat([species_names, urls], axis=1)"
   ]
  },
  {
   "cell_type": "markdown",
   "id": "37e1b8c9",
   "metadata": {},
   "source": [
    "species_path = os.path.join('..', 'src', 'SF_Tree_Identifier', 'data', 'Species.csv')\n",
    "species_names.to_csv(species_path)"
   ]
  },
  {
   "cell_type": "markdown",
   "id": "2bb4c49f",
   "metadata": {},
   "source": [
    "Note the new index, as this will be how we look up the URL's later.\n",
    "\n",
    "The next step is to create a new column that contains the url path number for SelecTree. "
   ]
  },
  {
   "cell_type": "code",
   "execution_count": 99,
   "id": "28b30768",
   "metadata": {
    "scrolled": true
   },
   "outputs": [
    {
     "data": {
      "text/plain": [
       "True"
      ]
     },
     "execution_count": 99,
     "metadata": {},
     "output_type": "execute_result"
    }
   ],
   "source": [
    "species_names = data['qSpecies'].str.split(' :: ', expand=True).rename(columns = {0: 'ScientificName', 1: 'CommonName'})\n",
    "pd.isna(species_names.loc[pd.isna(species_names.CommonName)].fillna(np.nan).iloc[0,1])\n"
   ]
  },
  {
   "cell_type": "code",
   "execution_count": 100,
   "id": "8bdacf21",
   "metadata": {},
   "outputs": [
    {
     "name": "stdout",
     "output_type": "stream",
     "text": [
      "<class 'pandas.core.frame.DataFrame'>\n",
      "Int64Index: 175092 entries, 121399 to 15238\n",
      "Data columns (total 4 columns):\n",
      " #   Column     Non-Null Count   Dtype   \n",
      "---  ------     --------------   -----   \n",
      " 0   qSpecies   175092 non-null  string  \n",
      " 1   qAddress   175092 non-null  string  \n",
      " 2   SiteOrder  175092 non-null  int8    \n",
      " 3   qSiteInfo  175092 non-null  category\n",
      "dtypes: category(1), int8(1), string(2)\n",
      "memory usage: 4.3 MB\n"
     ]
    }
   ],
   "source": [
    "data.info()"
   ]
  },
  {
   "cell_type": "markdown",
   "id": "62ef2ed0",
   "metadata": {},
   "source": [
    "Now, we can check to see if wikipedia articles exist for each "
   ]
  },
  {
   "cell_type": "code",
   "execution_count": null,
   "id": "62ef67a6",
   "metadata": {},
   "outputs": [],
   "source": []
  }
 ],
 "metadata": {
  "kernelspec": {
   "display_name": "Python 3 (ipykernel)",
   "language": "python",
   "name": "python3"
  },
  "language_info": {
   "codemirror_mode": {
    "name": "ipython",
    "version": 3
   },
   "file_extension": ".py",
   "mimetype": "text/x-python",
   "name": "python",
   "nbconvert_exporter": "python",
   "pygments_lexer": "ipython3",
   "version": "3.10.0"
  }
 },
 "nbformat": 4,
 "nbformat_minor": 5
}

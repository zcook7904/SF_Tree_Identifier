{
 "cells": [
  {
   "cell_type": "code",
   "execution_count": 1,
   "id": "c82293c0",
   "metadata": {
    "scrolled": false
   },
   "outputs": [
    {
     "data": {
      "text/html": [
       "<div>\n",
       "<style scoped>\n",
       "    .dataframe tbody tr th:only-of-type {\n",
       "        vertical-align: middle;\n",
       "    }\n",
       "\n",
       "    .dataframe tbody tr th {\n",
       "        vertical-align: top;\n",
       "    }\n",
       "\n",
       "    .dataframe thead th {\n",
       "        text-align: right;\n",
       "    }\n",
       "</style>\n",
       "<table border=\"1\" class=\"dataframe\">\n",
       "  <thead>\n",
       "    <tr style=\"text-align: right;\">\n",
       "      <th></th>\n",
       "      <th>qSpecies</th>\n",
       "      <th>urlPath</th>\n",
       "      <th>queried_address</th>\n",
       "    </tr>\n",
       "  </thead>\n",
       "  <tbody>\n",
       "    <tr>\n",
       "      <th>0</th>\n",
       "      <td>Pinus radiata :: Monterey Pine</td>\n",
       "      <td>1071</td>\n",
       "      <td>900 Brotherhood Way</td>\n",
       "    </tr>\n",
       "    <tr>\n",
       "      <th>1</th>\n",
       "      <td>Pinus radiata :: Monterey Pine</td>\n",
       "      <td>1071</td>\n",
       "      <td>900 Brotherhood Way</td>\n",
       "    </tr>\n",
       "    <tr>\n",
       "      <th>2</th>\n",
       "      <td>Pinus radiata :: Monterey Pine</td>\n",
       "      <td>1071</td>\n",
       "      <td>900 Brotherhood Way</td>\n",
       "    </tr>\n",
       "    <tr>\n",
       "      <th>3</th>\n",
       "      <td>Pinus radiata :: Monterey Pine</td>\n",
       "      <td>1071</td>\n",
       "      <td>900 Brotherhood Way</td>\n",
       "    </tr>\n",
       "    <tr>\n",
       "      <th>4</th>\n",
       "      <td>Pinus canariensis :: Canary Island Pine</td>\n",
       "      <td>1035</td>\n",
       "      <td>900 Brotherhood Way</td>\n",
       "    </tr>\n",
       "  </tbody>\n",
       "</table>\n",
       "</div>"
      ],
      "text/plain": [
       "                                  qSpecies  urlPath      queried_address\n",
       "0           Pinus radiata :: Monterey Pine     1071  900 Brotherhood Way\n",
       "1           Pinus radiata :: Monterey Pine     1071  900 Brotherhood Way\n",
       "2           Pinus radiata :: Monterey Pine     1071  900 Brotherhood Way\n",
       "3           Pinus radiata :: Monterey Pine     1071  900 Brotherhood Way\n",
       "4  Pinus canariensis :: Canary Island Pine     1035  900 Brotherhood Way"
      ]
     },
     "execution_count": 1,
     "metadata": {},
     "output_type": "execute_result"
    }
   ],
   "source": [
    "import pandas as pd\n",
    "import os\n",
    "\n",
    "path = os.path.join('..', 'brotherhood.csv')\n",
    "df = pd.read_csv(path, index_col=0)\n",
    "df.head()"
   ]
  },
  {
   "cell_type": "code",
   "execution_count": 2,
   "id": "65ad5231",
   "metadata": {
    "scrolled": false
   },
   "outputs": [
    {
     "data": {
      "text/plain": [
       "qSpecies           Pinus radiata :: Monterey Pine\n",
       "urlPath                                      1071\n",
       "queried_address               900 Brotherhood Way\n",
       "Name: 0, dtype: object"
      ]
     },
     "execution_count": 2,
     "metadata": {},
     "output_type": "execute_result"
    }
   ],
   "source": [
    "df.iloc[0]"
   ]
  },
  {
   "cell_type": "code",
   "execution_count": 24,
   "id": "3553d648",
   "metadata": {},
   "outputs": [
    {
     "data": {
      "text/plain": [
       "'Pinus radiata :: Monterey Pine'"
      ]
     },
     "execution_count": 24,
     "metadata": {},
     "output_type": "execute_result"
    }
   ],
   "source": [
    "df.iloc[0].qSpecies"
   ]
  },
  {
   "cell_type": "code",
   "execution_count": 43,
   "id": "0241ecef",
   "metadata": {},
   "outputs": [],
   "source": [
    "df.loc[0, 'qSpecies'] = 'Pinus radiata ::'"
   ]
  },
  {
   "cell_type": "code",
   "execution_count": 39,
   "id": "4e828b0f",
   "metadata": {},
   "outputs": [
    {
     "name": "stdout",
     "output_type": "stream",
     "text": [
      "146 µs ± 1.24 µs per loop (mean ± std. dev. of 7 runs, 10,000 loops each)\n"
     ]
    }
   ],
   "source": [
    "%%timeit\n",
    "df.qSpecies.str.split(' :: ', expand=False)"
   ]
  },
  {
   "cell_type": "code",
   "execution_count": 44,
   "id": "8c98daa4",
   "metadata": {},
   "outputs": [
    {
     "data": {
      "text/plain": [
       "[['Pinus radiata ::'],\n",
       " ['Pinus radiata', 'Monterey Pine'],\n",
       " ['Pinus radiata', 'Monterey Pine'],\n",
       " ['Pinus radiata', 'Monterey Pine'],\n",
       " ['Pinus canariensis', 'Canary Island Pine'],\n",
       " ['Pinus radiata', 'Monterey Pine'],\n",
       " ['Pinus canariensis', 'Canary Island Pine'],\n",
       " ['Pinus radiata', 'Monterey Pine'],\n",
       " ['Cupressus macrocarpa', 'Monterey Cypress'],\n",
       " ['Cupressus macrocarpa', 'Monterey Cypress'],\n",
       " ['Pinus radiata', 'Monterey Pine'],\n",
       " ['Pinus radiata', 'Monterey Pine'],\n",
       " ['Cupressus macrocarpa', 'Monterey Cypress'],\n",
       " ['Pinus radiata', 'Monterey Pine'],\n",
       " ['Pinus radiata', 'Monterey Pine'],\n",
       " ['Pinus radiata', 'Monterey Pine'],\n",
       " ['Pinus radiata', 'Monterey Pine']]"
      ]
     },
     "execution_count": 44,
     "metadata": {},
     "output_type": "execute_result"
    }
   ],
   "source": [
    "split_species = list()\n",
    "for row in df.qSpecies:\n",
    "    split_species.append(row.split(' :: '))\n",
    "split_species"
   ]
  },
  {
   "cell_type": "code",
   "execution_count": 75,
   "id": "b31a8f15",
   "metadata": {},
   "outputs": [
    {
     "name": "stdout",
     "output_type": "stream",
     "text": [
      "0\n",
      "1\n",
      "2\n",
      "3\n"
     ]
    }
   ],
   "source": [
    "grouped_results = df.groupby(['qSpecies', 'urlPath']).count().reset_index().rename({'queried_address': 'count'}, axis=1)\n",
    "for result in grouped_results.iterrows():\n",
    "    print(result[0])"
   ]
  },
  {
   "cell_type": "code",
   "execution_count": 6,
   "id": "26600e3c",
   "metadata": {},
   "outputs": [
    {
     "data": {
      "text/plain": [
       "1"
      ]
     },
     "execution_count": 6,
     "metadata": {},
     "output_type": "execute_result"
    }
   ],
   "source": [
    "address_count = df.queried_address.unique().size"
   ]
  },
  {
   "cell_type": "code",
   "execution_count": 18,
   "id": "54975cd0",
   "metadata": {},
   "outputs": [
    {
     "name": "stdout",
     "output_type": "stream",
     "text": [
      "42.6 µs ± 2.26 µs per loop (mean ± std. dev. of 7 runs, 10,000 loops each)\n"
     ]
    }
   ],
   "source": [
    "%%timeit\n",
    "species_count = len(df.qSpecies.unique())"
   ]
  },
  {
   "cell_type": "code",
   "execution_count": 19,
   "id": "cf40110a",
   "metadata": {},
   "outputs": [
    {
     "name": "stdout",
     "output_type": "stream",
     "text": [
      "54.7 µs ± 7.32 µs per loop (mean ± std. dev. of 7 runs, 10,000 loops each)\n"
     ]
    }
   ],
   "source": []
  },
  {
   "cell_type": "code",
   "execution_count": 34,
   "id": "8cc2fbad",
   "metadata": {
    "scrolled": true
   },
   "outputs": [
    {
     "name": "stdout",
     "output_type": "stream",
     "text": [
      "Cupressus macrocarpa :: Monterey Cypress: 3\n",
      "Pinus canariensis :: Canary Island Pine: 2\n",
      "Pinus radiata :: Monterey Pine: 12\n"
     ]
    }
   ],
   "source": [
    "grouped_df = df.groupby(['qSpecies', 'urlPath']).count().queried_address\n",
    "for row in grouped_df.index:\n",
    "    print(f'{row[0]}: {grouped_df.loc[row[0]].item()}')"
   ]
  },
  {
   "cell_type": "code",
   "execution_count": 49,
   "id": "256e5258",
   "metadata": {},
   "outputs": [
    {
     "name": "stdout",
     "output_type": "stream",
     "text": [
      "104\n"
     ]
    }
   ],
   "source": [
    "scientific_name, common_name = row[0].split(' :: ')\n",
    "message = (f'Trees at {df.queried_address[0]}:',\n",
    "     f'{common_name} ({scientific_name})',\n",
    "     f'https://selectree.calpoly.edu/tree-detail/{row[1]}')\n",
    "\n",
    "print(len(''.join(message)))"
   ]
  }
 ],
 "metadata": {
  "kernelspec": {
   "display_name": "Python 3 (ipykernel)",
   "language": "python",
   "name": "python3"
  },
  "language_info": {
   "codemirror_mode": {
    "name": "ipython",
    "version": 3
   },
   "file_extension": ".py",
   "mimetype": "text/x-python",
   "name": "python",
   "nbconvert_exporter": "python",
   "pygments_lexer": "ipython3",
   "version": "3.10.0"
  }
 },
 "nbformat": 4,
 "nbformat_minor": 5
}
